{
 "cells": [
  {
   "cell_type": "code",
   "execution_count": 1,
   "id": "079351b8-404c-44aa-b354-c888904ab2f7",
   "metadata": {},
   "outputs": [],
   "source": [
    "import json\n",
    "import random\n",
    "from random_questions import random_questions_array"
   ]
  },
  {
   "cell_type": "markdown",
   "id": "74ed318b-d289-4866-8df7-d409458a5620",
   "metadata": {},
   "source": [
    "# Background\n",
    "Want to study for the Illinois driving test without a study partner? This Python code throws random questions from the official Illinois Driving handbook. Illinois requires drivers to answer 28 questions correctly out of 35 (80%). The IL handbook contains 86 questions so if you get at least 69 questions correctly then you should be ready to take the written test!\n",
    "\n",
    "Practice questions and study material:\n",
    "- The Illinois Secretary of State (SOS) official Driving Handbook: [Illinois Rules of the Road 2022](https://www.ilsos.gov/publications/pdf_publications/dsd_a112.pdf)\n",
    "\n",
    "Author: [Maria Clarissa Fionalita](https://github.com/mariafshan/)\n",
    "\n",
    "# How to Use\n",
    "Run the code as it is and you should be good to start practicing. The code will prompt random questions from the driving handbook, input your answer accordingly.\n",
    "- Input _T_ or _F_ if the question is marked _[T/F]_\n",
    "- Input the corresponding letter answer if the question has multiple choice answers (e.g. _a_)\n",
    "\n",
    "The input space is case-insensitive.\n",
    "\n",
    "By default, the code is set so it will show 86 questions at random sequence. If you do not wish to go through all 86 questions, you can change the max variable of *random_questions_array()* function to your desired number of questions *(e.g. random_questions_array(max = 50))*\n",
    "\n",
    "# Scoring\n",
    "Each correct answer is worth 1 point. At the end of the practice session, the code will display:\n",
    "1. The number of questions answered correctly\n",
    "2. The % of the correctly answered questions\n",
    "3. The questions that were answered incorrectly, user's answer, and the correct answer\n",
    "\n",
    "Each question is marked with the chapter number from the guide book and the question number. E.g. _[4.1]_ means chapter 4 question 1.\n",
    "Review the chapter in the guidebook for the questions answered incorrectly."
   ]
  },
  {
   "cell_type": "markdown",
   "id": "75fcb1f5-d287-4d0c-bd99-5b8a906cb629",
   "metadata": {},
   "source": [
    "#### Load the Data"
   ]
  },
  {
   "cell_type": "code",
   "execution_count": 2,
   "id": "e4c6e8c9-718a-4c61-9d5b-b6ccc94da2b4",
   "metadata": {},
   "outputs": [],
   "source": [
    "data = json.load(open(\"questions.json\"))"
   ]
  },
  {
   "cell_type": "code",
   "execution_count": 3,
   "id": "e2048092-63cb-4388-a9ac-ffc66c350a1c",
   "metadata": {},
   "outputs": [],
   "source": [
    "questions = data[\"questions\"]\n",
    "answers = data[\"answers\"]\n",
    "\n",
    "NUM_OF_QUESTIONS = len(questions)\n",
    "score = 0\n",
    "n_completed_questions = 0 #number of questions completed"
   ]
  },
  {
   "cell_type": "markdown",
   "id": "227da876-4f40-4c91-a6c5-2c146f7ca117",
   "metadata": {},
   "source": [
    "#### Let's Practice!\n",
    "You can change the _max_ argument when calling the _random_questions_array()_ function here."
   ]
  },
  {
   "cell_type": "code",
   "execution_count": 4,
   "id": "c4299392-dd38-4271-bd72-d94823c5f648",
   "metadata": {},
   "outputs": [
    {
     "name": "stdout",
     "output_type": "stream",
     "text": [
      "1 out of 5\n",
      "[5.4] When following a truck at night, it is important for drivers to dim their vehicle’s headlights. [T/F]\n"
     ]
    },
    {
     "name": "stdin",
     "output_type": "stream",
     "text": [
      "Answer:  t\n"
     ]
    },
    {
     "name": "stdout",
     "output_type": "stream",
     "text": [
      "Correct!\n",
      "\n",
      "2 out of 5\n",
      "[11.2] If driving in fog, a driver should turn on the high-beam headlights to increase the field of vision. [T/F]\n"
     ]
    },
    {
     "name": "stdin",
     "output_type": "stream",
     "text": [
      "Answer:  f\n"
     ]
    },
    {
     "name": "stdout",
     "output_type": "stream",
     "text": [
      "Correct!\n",
      "\n",
      "3 out of 5\n",
      "[9.6] A diamond-shaped sign warns drivers of possible hazards. [T/F]\n"
     ]
    },
    {
     "name": "stdin",
     "output_type": "stream",
     "text": [
      "Answer:  t\n"
     ]
    },
    {
     "name": "stdout",
     "output_type": "stream",
     "text": [
      "Correct!\n",
      "\n",
      "4 out of 5\n",
      "[4.21] Only vehicles displaying special plates or parking placards for persons with disabilities may park in spaces reserved for them by an official PARKING FOR PERSONS WITH DISABILITIES sign. [T/F]\n"
     ]
    },
    {
     "name": "stdin",
     "output_type": "stream",
     "text": [
      "Answer:  t\n"
     ]
    },
    {
     "name": "stdout",
     "output_type": "stream",
     "text": [
      "Correct!\n",
      "\n",
      "5 out of 5\n",
      "[5.5] When approaching a disabled pedestrian using a guide dog, white cane or other assistive device, a driver should yield the right of way. [T/F]\n"
     ]
    },
    {
     "name": "stdin",
     "output_type": "stream",
     "text": [
      "Answer:  t\n"
     ]
    },
    {
     "name": "stdout",
     "output_type": "stream",
     "text": [
      "Correct!\n",
      "\n"
     ]
    }
   ],
   "source": [
    "random_array = random_questions_array(max = 5) # add the max num of questions here\n",
    "num_practice_questions = len(random_array)\n",
    "wrong_questions = []\n",
    "\n",
    "for i in random_array:\n",
    "    n_completed_questions += 1\n",
    "    print(str(n_completed_questions), \"out of\", num_practice_questions)\n",
    "    print(questions[i])\n",
    "    \n",
    "    user_answer = str(input(\"Answer: \")).lower()\n",
    "    \n",
    "    if user_answer == answers[i].lower():\n",
    "        score += 1\n",
    "        print(\"Correct!\\n\")\n",
    "    \n",
    "    else:\n",
    "        wrong_questions.append([questions[i], user_answer, answers[i]])\n",
    "        print(\"Incorrect. The correct answer is\", str(answers[i]) + \"\\n\")"
   ]
  },
  {
   "cell_type": "markdown",
   "id": "839da460-d65c-4a49-8460-ef6ede6f755f",
   "metadata": {},
   "source": [
    "#### Result"
   ]
  },
  {
   "cell_type": "code",
   "execution_count": 5,
   "id": "c251ac5f-b8d0-4a8d-82a4-eae6ee458c9c",
   "metadata": {},
   "outputs": [
    {
     "name": "stdout",
     "output_type": "stream",
     "text": [
      "You got 5 questions out of 5 questions correct.\n",
      "You answered 100.0% correctly.\n",
      "\n",
      "You are ready to take the written driving test!\n",
      "\n",
      "Congratulations for acing the practice test. But don't stop here, continue studying the guide book!\n"
     ]
    }
   ],
   "source": [
    "# calculate the percentage of correct answers\n",
    "score_per = round((score / num_practice_questions) * 100, 2)\n",
    "\n",
    "print(\"You got\", score, \"questions out of\", num_practice_questions, \"questions correct.\")\n",
    "print(\"You answered\", str(score_per) + \"% correctly.\\n\")\n",
    "if score_per >= 80:\n",
    "    print(\"You are ready to take the written driving test!\")\n",
    "else:\n",
    "    print(\"You score less than 80%, try to study the materials again before taking the test.\")\n",
    "    \n",
    "if len(wrong_questions) == 0:\n",
    "    print(\"\\nCongratulations for acing the practice test. But don't stop here, continue studying the guide book!\")\n",
    "else:\n",
    "    print(\"\\nReview the following questions:\")\n",
    "    for ele in wrong_questions:\n",
    "        print(\"\\nQuestion:\", ele[0])\n",
    "        print(\"Your answer:\", ele[1])\n",
    "        print(\"Answer:\", ele[2])"
   ]
  }
 ],
 "metadata": {
  "kernelspec": {
   "display_name": "Python 3 (ipykernel)",
   "language": "python",
   "name": "python3"
  },
  "language_info": {
   "codemirror_mode": {
    "name": "ipython",
    "version": 3
   },
   "file_extension": ".py",
   "mimetype": "text/x-python",
   "name": "python",
   "nbconvert_exporter": "python",
   "pygments_lexer": "ipython3",
   "version": "3.10.9"
  }
 },
 "nbformat": 4,
 "nbformat_minor": 5
}
